{
 "cells": [
  {
   "cell_type": "markdown",
   "id": "3f6e38fc-9f24-4c8f-9e2e-2c120eb68d45",
   "metadata": {},
   "source": [
    "# Augment Intelligent Document Processing with generative AI using Amazon Bedrock\n",
    "---\n",
    "\n",
    "<div class=\"alert alert-block alert-info\"> \n",
    "    <b>NOTE:</b> You will need to use a Jupyter Kernel with Python 3.9 or above to use this notebook. If you are in Amazon SageMaker Studio, you can use the `Data Science 3.0` image.\n",
    "</div>\n",
    "\n",
    "<div class=\"alert alert-block alert-warning\"> \n",
    "    <b>NOTE:</b> You will need 3rd party model access to Anthropic Claude V1 model to be able to run this notebook. Verify if you have access to the model by going to <a href=\"https://console.aws.amazon.com/bedrock\" target=\"_blank\">Amazon Bedrock console</a> > left menu \"Model access\". The \"Access status\" for Anthropic Claude must be in \"Access granted\" status in green. If you do not have access, then click \"Edit\" button on the top right > select the model checkbox > click \"Save changes\" button at the bottom. You should have access to the model within a few moments.\n",
    "</div>\n",
    "\n",
    "In this notebook, we demonstrate how you can integrate Amazon Textract with LangChain as a document loader to extract data from documents and use generative AI capabilities within the various IDP phases. We will perform the following with different LLMs.\n",
    "\n",
    "- Classification\n",
    "- Summarization\n",
    "- Standardization\n",
    "- Spell check corrections"
   ]
  },
  {
   "cell_type": "code",
   "execution_count": null,
   "id": "06c12c62-2259-48b9-8148-70a540c28ae5",
   "metadata": {
    "scrolled": true,
    "tags": []
   },
   "outputs": [],
   "source": [
    "!pip install -U boto3 langchain faiss-cpu transformers\n",
    "!pip install amazon-textract-textractor pypdf Pillow transformers"
   ]
  },
  {
   "cell_type": "code",
   "execution_count": 62,
   "id": "10bd886e-d953-4b0e-81a1-54d72847b8f2",
   "metadata": {
    "tags": []
   },
   "outputs": [
    {
     "name": "stdout",
     "output_type": "stream",
     "text": [
      "sagemaker.config INFO - Not applying SDK defaults from location: /etc/xdg/sagemaker/config.yaml\n",
      "sagemaker.config INFO - Not applying SDK defaults from location: /root/.config/sagemaker/config.yaml\n",
      "sagemaker.config INFO - Not applying SDK defaults from location: /etc/xdg/sagemaker/config.yaml\n",
      "sagemaker.config INFO - Not applying SDK defaults from location: /root/.config/sagemaker/config.yaml\n",
      "SageMaker bucket is sagemaker-us-east-1-710096454740, and SageMaker Execution Role is arn:aws:iam::710096454740:role/service-role/AmazonSageMaker-ExecutionRole-20220504T135260\n"
     ]
    }
   ],
   "source": [
    "import json\n",
    "import os\n",
    "import sys\n",
    "import sagemaker\n",
    "import boto3\n",
    "\n",
    "role = sagemaker.get_execution_role()\n",
    "data_bucket = sagemaker.Session().default_bucket()\n",
    "bedrock = boto3.client('bedrock-runtime')\n",
    "s3 = boto3.client(\"s3\")\n",
    "print(f\"SageMaker bucket is {data_bucket}, and SageMaker Execution Role is {role}\")"
   ]
  },
  {
   "cell_type": "markdown",
   "id": "5f3b0ee4-b856-4718-992e-99390f56068e",
   "metadata": {},
   "source": [
    "## 1. Classification\n",
    "---\n",
    "\n",
    "Classify a document based on it's content, given a list of classes."
   ]
  },
  {
   "cell_type": "code",
   "execution_count": 20,
   "id": "5641327d-e375-4c03-ac1e-96704bcdbd89",
   "metadata": {
    "tags": []
   },
   "outputs": [
    {
     "name": "stdout",
     "output_type": "stream",
     "text": [
      "The provided document is a =  DISCHARGE_SUMMARY\n"
     ]
    }
   ],
   "source": [
    "from langchain.document_loaders import AmazonTextractPDFLoader\n",
    "from langchain.llms import Bedrock\n",
    "from langchain.prompts import PromptTemplate\n",
    "from langchain.chains import LLMChain\n",
    "\n",
    "loader = AmazonTextractPDFLoader(\"./samples/discharge-summary.png\")\n",
    "document = loader.load()\n",
    "\n",
    "template = \"\"\"\n",
    "\n",
    "Given a list of classes, classify the document into one of these classes. Skip any preamble text and just give the class name.\n",
    "\n",
    "<classes>DISCHARGE_SUMMARY, RECEIPT, PRESCRIPTION</classes>\n",
    "<document>{doc_text}<document>\n",
    "<classification>\"\"\"\n",
    "\n",
    "prompt = PromptTemplate(template=template, input_variables=[\"doc_text\"])\n",
    "bedrock_llm = Bedrock(client=bedrock, model_id=\"anthropic.claude-v1\")\n",
    "\n",
    "llm_chain = LLMChain(prompt=prompt, llm=bedrock_llm)\n",
    "class_name = llm_chain.run(document[0].page_content)\n",
    "\n",
    "print(f\"The provided document is = {class_name}\")\n",
    "\n"
   ]
  },
  {
   "cell_type": "markdown",
   "id": "ed904147-9ed1-4db1-81ee-5a433624b204",
   "metadata": {},
   "source": [
    "## 2. Summarization\n",
    "---\n",
    "\n",
    "Summarize large pieces of text from a document into smaller, more coincise explanations. In this block we will perform a single page summary."
   ]
  },
  {
   "cell_type": "code",
   "execution_count": null,
   "id": "d80f54e8",
   "metadata": {},
   "outputs": [],
   "source": [
    "!pip install anthropic"
   ]
  },
  {
   "cell_type": "code",
   "execution_count": 28,
   "id": "4212bb6d-9069-4f34-a684-4d7d1750e6a6",
   "metadata": {
    "tags": []
   },
   "outputs": [
    {
     "name": "stdout",
     "output_type": "stream",
     "text": [
      "Our prompt has 797 tokens \n",
      "\n",
      " =========================\n",
      "\n",
      "35 yo M admitted for epigastric abdominal pain, nausea, fatigue. Found to likely have ulcer. Discharged with activity restrictions, antibiotics, diet changes, and follow up.\n"
     ]
    }
   ],
   "source": [
    "from langchain.document_loaders import AmazonTextractPDFLoader\n",
    "from langchain.llms import Bedrock\n",
    "from langchain.prompts import PromptTemplate\n",
    "from langchain.chains import LLMChain\n",
    "\n",
    "loader = AmazonTextractPDFLoader(\"./samples/discharge-summary.png\")\n",
    "document = loader.load()\n",
    "\n",
    "template = \"\"\"\n",
    "\n",
    "Given a full document, give me a concise summary. Skip any preamble text and just give the summary.\n",
    "\n",
    "<document>{doc_text}</document>\n",
    "<summary>\"\"\"\n",
    "\n",
    "prompt = PromptTemplate(template=template, input_variables=[\"doc_text\"])\n",
    "bedrock_llm = Bedrock(client=bedrock, model_id=\"anthropic.claude-v1\")\n",
    "\n",
    "num_tokens = bedrock_llm.get_num_tokens(document[0].page_content)\n",
    "print (f\"Our prompt has {num_tokens} tokens \\n\\n=========================\\n\")\n",
    "\n",
    "llm_chain = LLMChain(prompt=prompt, llm=bedrock_llm)\n",
    "summary = llm_chain.run(document[0].page_content)\n",
    "\n",
    "print(summary.replace(\"</summary>\",\"\").strip())"
   ]
  },
  {
   "cell_type": "markdown",
   "id": "3ae4d20a-eef5-4147-ac82-647ee44ed467",
   "metadata": {},
   "source": [
    "### Multi-page summarization\n",
    "\n",
    "We will now attempt to summarize a multi-page document. In order to extract a multi-page PDF we first need to upload it to an S3 bucket."
   ]
  },
  {
   "cell_type": "code",
   "execution_count": 33,
   "id": "c032d517-9601-4d9e-bf36-1608b8355488",
   "metadata": {
    "tags": []
   },
   "outputs": [
    {
     "name": "stdout",
     "output_type": "stream",
     "text": [
      "huggingface/tokenizers: The current process just got forked, after parallelism has already been used. Disabling parallelism to avoid deadlocks...\n",
      "To disable this warning, you can either:\n",
      "\t- Avoid using `tokenizers` before the fork if possible\n",
      "\t- Explicitly set the environment variable TOKENIZERS_PARALLELISM=(true | false)\n",
      "upload: samples/health_plan.pdf to s3://sagemaker-us-east-1-710096454740/bedrock-sample/health_plan.pdf\n"
     ]
    }
   ],
   "source": [
    "!aws s3 cp ./samples/health_plan.pdf s3://{data_bucket}/bedrock-sample/health_plan.pdf"
   ]
  },
  {
   "cell_type": "code",
   "execution_count": 35,
   "id": "dfe00801-d6a5-4b14-85f4-f403d3ec3b02",
   "metadata": {
    "scrolled": true,
    "tags": []
   },
   "outputs": [
    {
     "data": {
      "text/plain": [
       "[Document(page_content='Health Benefit Summary Plan Description Revised 01-01-2022 BENEFITS Healthcare Policy Plan Vision: To provide high quality, affordable healthcare for all citizens. Mission: To implement policy reforms and programs that expand access to healthcare, reduce costs, and improve health outcomes. Goals: 1. Achieve universal healthcare coverage. Provide health insurance for all citizens regardless of income or health status. 2. Reduce healthcare costs for individuals and government. Implement policies and programs to lower premiums, out-of-pocket costs, and overall healthcare spending. 3. Improve population health. Invest in public health programs and prevention to promote healthy lifestyles, reduce health risks, and improve health outcomes. 4. Support healthcare innovation. Invest in research and new technologies to improve treatments, cures, and the healthcare system. Policy Reforms: 1. Establish a public healthcare option. Provide a government-run health plan to compete with private insurers and drive down costs. 2. Expand Medicaid coverage. Increase income eligibility limits for Medicaid to extend coverage to more low-income individuals. 3. Require insurance companies to cover pre-existing conditions. Prohibit denial of coverage or higher premiums due to health status. 4. Increase healthcare subsidies and tax credits. Make health insurance more affordable for middle- income individuals and families. 5. Invest in preventive care and public health. Increase Health Benefit Summary Plan Description Revised 01-01-2022 BENEFITS Healthcare Policy Plan Vision: To provide high quality, affordable healthcare for all citizens. Mission: To implement policy reforms and programs that expand access to healthcare, reduce costs, and improve health outcomes. Goals: 1. Achieve universal healthcare coverage. Provide health insurance for all citizens regardless of income or health status. 2. Reduce healthcare costs for individuals and government. Implement policies and programs to lower premiums, out-of-pocket costs, and overall healthcare spending. 3. Improve population health. Invest in public health programs and prevention to promote healthy lifestyles, reduce health risks, and improve health outcomes. 4. Support healthcare innovation. Invest in research and new technologies to improve treatments, cures, and the healthcare system. Policy Reforms: 1. Establish a public healthcare option. Provide a government-run health plan to compete with private insurers and drive down costs. 2. Expand Medicaid coverage. Increase income eligibility limits for Medicaid to extend coverage to more low-income individuals. 3. Require insurance companies to cover pre-existing conditions. Prohibit denial of coverage or higher premiums due to health status. 4. Increase healthcare subsidies and tax credits. Make health insurance more affordable for middle- income individuals and families. 5. Invest in preventive care and public health. Increase ', metadata={'source': 's3://sagemaker-us-east-1-710096454740/bedrock-sample/health_plan.pdf', 'page': 1}),\n",
       " Document(page_content='The purpose of this document is to provide You and Your covered Dependents, if any, with summary information in English on benefits available under this Plan as well as with information on a Covered Person\\'s rights and obligations under the ANYCOMPANY, INC. Group Health Benefit Plan (the \"Plan\"). You are a valued Employee of ANYCOMPANY, INC., and Your employer is pleased to sponsor this Plan to provide benefits that can help meet Your health care needs. Please read this document carefully and contact Your Human Resources or Personnel office if You have questions or if You have difficulty translating this document. ANYCOMPANY, INC. is named the Plan Administrator for this Plan. The Plan Administrator has retained the services of independent Third Party Administrators to process claims and handle other duties for this self-funded Plan. The Third Party Administrators for this Plan are UMR, Inc. (hereinafter \"UMR\") for medical claims, and Express Scripts for pharmacy claims. The Third Party Administrators do not assume liability for benefits payable under this Plan, since they are solely claims-paying agents for the Plan Administrator. The employer assumes the sole responsibility for funding the Plan benefits out of general assets; however, Employees help cover some of the costs of covered benefits through contributions, Deductibles, out-of-pocket amounts, and Plan Participation amounts as described in the Schedule of Benefits. All claim payments and reimbursements are paid out of the general assets of the employer and there is no separate fund that is used to pay promised benefits. The Plan is intended to comply with and be governed by the Employee Retirement Income Security Act of 1974 (ERISA) and its amendments. Some of the terms used in this document begin with capital letters, even though such terms normally would not be capitalized. These terms have special meaning under the Plan. Most capitalized terms are listed in the Glossary of Terms, but some are defined within the provisions in which they are used. Becoming familiar with the terms defined in the Glossary of Terms will help You to better understand the provisions of this Plan. Each individual covered under this Plan will be receiving an identification card that he or she may present to providers whenever he or she receives services. On the back of this card are phone numbers to call in case of questions or problems. This document contains information on the benefits and limitations of the Plan and will serve as both the Summary Plan Description (SPD) and Plan document. Therefore it will be referred to as both the SPD and the Plan document. It is being furnished to You in accordance with ABC. This document became effective on January 1, 2019. PLAN INFORMATION Plan Name ANYCOMPANY INC Name And Address Of Employer ANYCOMPANY, INC 123 ANY STREET ANY CITY CA, 92127 Name, Address, And Phone Number ANYCOMPANY, INC Of Plan Administrator 123 ANY STREET ANY CITY CA, 92127 866-648-0044 Named Fiduciary ANYCOMPANY, INC. Claims Appeal Fiduciary For Medical Claims UMR Employer Identification Number Assigned By 12-34567890 The IRS Plan Number Assigned By The Plan 511 Type Of Benefit Plan Provided Self-funded Health and Welfare Plan providing group health benefits. The purpose of this document is to provide You and Your covered Dependents, if any, with summary information in English on benefits available under this Plan as well as with information on a Covered Person\\'s rights and obligations under the ANYCOMPANY, INC. Group Health Benefit Plan (the \"Plan\"). You are a valued Employee of ANYCOMPANY, INC., and Your employer is pleased to sponsor this Plan to provide benefits that can help meet Your health care needs. Please read this document carefully and contact Your Human Resources or Personnel office if You have questions or if You have difficulty translating this document. ANYCOMPANY, INC. is named the Plan Administrator for this Plan. The Plan Administrator has retained the services of independent Third Party Administrators to process claims and handle other duties for this self-funded Plan. The Third Party Administrators for this Plan are UMR, Inc. (hereinafter \"UMR\") for medical claims, and Express Scripts for pharmacy claims. The Third Party Administrators do not assume liability for benefits payable under this Plan, since they are solely claims-paying agents for the Plan Administrator. The employer assumes the sole responsibility for funding the Plan benefits out of general assets; however, Employees help cover some of the costs of covered benefits through contributions, Deductibles, out-of-pocket amounts, and Plan Participation amounts as described in the Schedule of Benefits. All claim payments and reimbursements are paid out of the general assets of the employer and there is no separate fund that is used to pay promised benefits. The Plan is intended to comply with and be governed by the Employee Retirement Income Security Act of 1974 (ERISA) and its amendments. Some of the terms used in this document begin with capital letters, even though such terms normally would not be capitalized. These terms have special meaning under the Plan. Most capitalized terms are listed in the Glossary of Terms, but some are defined within the provisions in which they are used. Becoming familiar with the terms defined in the Glossary of Terms will help You to better understand the provisions of this Plan. Each individual covered under this Plan will be receiving an identification card that he or she may present to providers whenever he or she receives services. On the back of this card are phone numbers to call in case of questions or problems. This document contains information on the benefits and limitations of the Plan and will serve as both the Summary Plan Description (SPD) and Plan document. Therefore it will be referred to as both the SPD and the Plan document. It is being furnished to You in accordance with ABC. This document became effective on January 1, 2019. PLAN INFORMATION Plan Name ANYCOMPANY INC Name And Address Of Employer ANYCOMPANY, INC 123 ANY STREET ANY CITY CA, 92127 Name, Address, And Phone Number ANYCOMPANY, INC Of Plan Administrator 123 ANY STREET ANY CITY CA, 92127 866-648-0044 Named Fiduciary ANYCOMPANY, INC. Claims Appeal Fiduciary For Medical Claims UMR Employer Identification Number Assigned By 12-34567890 The IRS Plan Number Assigned By The Plan 511 Type Of Benefit Plan Provided Self-funded Health and Welfare Plan providing group health benefits. ', metadata={'source': 's3://sagemaker-us-east-1-710096454740/bedrock-sample/health_plan.pdf', 'page': 2}),\n",
       " Document(page_content=\"Type Of Administration The administration of the Plan is under the supervision of the Plan Administrator. The Plan is not financed by an insurance company and benefits are not guaranteed by a contract of insurance. Name And Address Of Agent For Service Of ANYCOMPANY, INC Legal Process 123 ANY STREET ANY CITY CA, 92127 Funding Of The Plan Employer and Employee Contributions Benefits are provided by a benefit Plan maintained on a self-insured basis by Your employer. Benefit Plan Year Benefits begin on January 1 and end on the following December 31. For new Employees and Dependents, a Benefit Plan Year begins on the individual's Effective Date and runs through December 31 of the same Benefit Plan Year. Plan Year January 1 through December 31 And Other Federal Compliance It is intended that this Plan comply with all applicable requirements of ABC and other federal regulations. In the event of any conflict between this Plan and ABC or other federal regulations, the provisions of ABC and the federal regulations will be deemed controlling, and any conflicting part of this Plan will be deemed superseded to the extent of the conflict. Benefit Plan(s) 001 All health benefits shown on this Schedule of Benefits are subject to the following: Deductibles, Co-pays, Plan Participation rates, and out-of-pocket maximums, if any. Refer to the Out-of-Pocket Expenses and Maximums section of this SPD for more details. Benefits listed in this Schedule of Benefits are subject to all provisions of the Plan, including any benefit determination based on an evaluation of medical facts and covered benefits. Refer to the Covered Medical Benefits and General Exclusions sections of this SPD for more details. Important: Prior authorization may be required before benefits will be considered for payment. Failure to obtain prior authorization may result in a penalty or increased out-of-pocket costs. Refer to the Care Coordination Process section of this SPD for a description of these services and prior authorization procedures. Note: Refer to the Provider Network section for clarifications and possible exceptions to the in-network or out-of-network classifications. If a benefit maximum is listed in the middle of a column on the Schedule of Benefits, it is a combined Maximum Benefit for services that the Covered Person receives from all in-network and out-of-network providers and facilities. IN-NETWORK Annual deductible per calendar year per person is $5000 and per family deductible per calendar year is $10,000, and individual embedded deductible is $5000. Type Of Administration The administration of the Plan is under the supervision of the Plan Administrator. The Plan is not financed by an insurance company and benefits are not guaranteed by a contract of insurance. Name And Address Of Agent For Service Of ANYCOMPANY, INC Legal Process 123 ANY STREET ANY CITY CA, 92127 Funding Of The Plan Employer and Employee Contributions Benefits are provided by a benefit Plan maintained on a self-insured basis by Your employer. Benefit Plan Year Benefits begin on January 1 and end on the following December 31. For new Employees and Dependents, a Benefit Plan Year begins on the individual's Effective Date and runs through December 31 of the same Benefit Plan Year. Plan Year January 1 through December 31 And Other Federal Compliance It is intended that this Plan comply with all applicable requirements of ABC and other federal regulations. In the event of any conflict between this Plan and ABC or other federal regulations, the provisions of ABC and the federal regulations will be deemed controlling, and any conflicting part of this Plan will be deemed superseded to the extent of the conflict. Benefit Plan(s) 001 All health benefits shown on this Schedule of Benefits are subject to the following: Deductibles, Co-pays, Plan Participation rates, and out-of-pocket maximums, if any. Refer to the Out-of-Pocket Expenses and Maximums section of this SPD for more details. Benefits listed in this Schedule of Benefits are subject to all provisions of the Plan, including any benefit determination based on an evaluation of medical facts and covered benefits. Refer to the Covered Medical Benefits and General Exclusions sections of this SPD for more details. Important: Prior authorization may be required before benefits will be considered for payment. Failure to obtain prior authorization may result in a penalty or increased out-of-pocket costs. Refer to the Care Coordination Process section of this SPD for a description of these services and prior authorization procedures. Note: Refer to the Provider Network section for clarifications and possible exceptions to the in-network or out-of-network classifications. If a benefit maximum is listed in the middle of a column on the Schedule of Benefits, it is a combined Maximum Benefit for services that the Covered Person receives from all in-network and out-of-network providers and facilities. IN-NETWORK Annual deductible per calendar year per person is $5000 and per family deductible per calendar year is $10,000, and individual embedded deductible is $5000. \", metadata={'source': 's3://sagemaker-us-east-1-710096454740/bedrock-sample/health_plan.pdf', 'page': 3}),\n",
       " Document(page_content=\"Note: Embedded Deductible Means That If You Have Family Coverage, Any Combination Of Covered Family Members May Help Meet The Maximum Family Deductible; However, No One Person Will Pay More Than His Or Her Embedded Individual Deductible Amount. Annual Total Out-Of-Pocket Maximum: Note: Medical And Pharmacy Expenses Are Subject To The Same Out-Of-Pocket Maximum. Pharmacy out of pocket maximum per person is $6000 and for family out of pocket maximum is $12000 Note: Embedded Out-Of-Pocket Maximum Means That If You Have Family Coverage, Any Combination Of Covered Family Members May Help Meet The Family Out-Of-Pocket Maximum; However, No One Person Will Pay More Than His Or Her Embedded Individual Out-Of-Pocket Maximum Amount. OUT-OF-POCKET EXPENSES AND MAXIMUMS Benefit Plan(s) 001, 002, 005 CO-PAYS A Co-pay is the amount that the Covered Person pays each time certain services are received. The Co- pay is typically a flat dollar amount and is paid at the time of service or when billed by the provider. Co- pays do not apply toward satisfaction of Deductibles. Co-pays apply toward satisfaction of in-network and out-of-network out-of-pocket maximums. The Co-pay and out-of-pocket maximum are shown on the Schedule of Benefits. DEDUCTIBLES A Deductible is an amount of money paid once per Plan Year by the Covered Person before any Covered Expenses are paid by this Plan. A Deductible applies to each Covered Person up to a family Deductible limit. When a new Plan Year begins, a new Deductible must be satisfied. Deductible amounts are shown on the Schedule of Benefits. Pharmacy expenses do not count toward meeting the Deductible of this Plan. The Deductible amounts that the Covered Person Incurs for Covered Expenses will be used to satisfy the Deductible(s) shown on the Schedule of Benefits. The Deductible amounts that the Covered Person Incurs at an in-network provider will apply to the in- network total individual and family Deductible. The Deductible amounts that the Covered Person Incurs at an out-of-network provider will apply to the out-of-network total individual and family Deductible. PLAN PARTICIPATION Plan Participation is the percentage of Covered Expenses that the Covered Person is responsible for paying after the Deductible is met. The Covered Person pays this percentage until the Covered Person's (or family's, if applicable) annual out-of-pocket maximum is reached. The Plan Participation rate is shown on the Schedule of Benefits. Any payment for an expense that is not covered under this Plan will be the Covered Person's responsibility. ANNUAL OUT-OF-POCKET MAXIMUMS The annual out-of-pocket maximum is the most the Covered Person pays each year for Covered Expenses. There are separate in-network and out-of-network out-of-pocket maximums for this Plan. Annual out-of-pocket maximums are shown on the Schedule of Benefits. Amounts the Covered Person Incurs for Covered Expenses will be used to satisfy the Covered Person's (or family's, if applicable) annual out-of-pocket maximum(s). If the Covered Person's out-of-pocket expenses in a Plan Year exceed the annual out-of-pocket maximum, the Plan pays 100% of the Covered Expenses through the end of the Plan Year. The following will not be used to meet the out-of-pocket maximums: _Penalties, legal fees and interest charged by a provider. Any amounts over the Recognized Amount, Usual and Customary amount, Negotiated Rate or established fee schedule that this Plan pays. Note: Embedded Deductible Means That If You Have Family Coverage, Any Combination Of Covered Family Members May Help Meet The Maximum Family Deductible; However, No One Person Will Pay More Than His Or Her Embedded Individual Deductible Amount. Annual Total Out-Of-Pocket Maximum: Note: Medical And Pharmacy Expenses Are Subject To The Same Out-Of-Pocket Maximum. Pharmacy out of pocket maximum per person is $6000 and for family out of pocket maximum is $12000 Note: Embedded Out-Of-Pocket Maximum Means That If You Have Family Coverage, Any Combination Of Covered Family Members May Help Meet The Family Out-Of-Pocket Maximum; However, No One Person Will Pay More Than His Or Her Embedded Individual Out-Of-Pocket Maximum Amount. OUT-OF-POCKET EXPENSES AND MAXIMUMS Benefit Plan(s) 001, 002, 005 CO-PAYS A Co-pay is the amount that the Covered Person pays each time certain services are received. The Co- pay is typically a flat dollar amount and is paid at the time of service or when billed by the provider. Co- pays do not apply toward satisfaction of Deductibles. Co-pays apply toward satisfaction of in-network and out-of-network out-of-pocket maximums. The Co-pay and out-of-pocket maximum are shown on the Schedule of Benefits. DEDUCTIBLES A Deductible is an amount of money paid once per Plan Year by the Covered Person before any Covered Expenses are paid by this Plan. A Deductible applies to each Covered Person up to a family Deductible limit. When a new Plan Year begins, a new Deductible must be satisfied. Deductible amounts are shown on the Schedule of Benefits. Pharmacy expenses do not count toward meeting the Deductible of this Plan. The Deductible amounts that the Covered Person Incurs for Covered Expenses will be used to satisfy the Deductible(s) shown on the Schedule of Benefits. The Deductible amounts that the Covered Person Incurs at an in-network provider will apply to the in- network total individual and family Deductible. The Deductible amounts that the Covered Person Incurs at an out-of-network provider will apply to the out-of-network total individual and family Deductible. PLAN PARTICIPATION Plan Participation is the percentage of Covered Expenses that the Covered Person is responsible for paying after the Deductible is met. The Covered Person pays this percentage until the Covered Person's (or family's, if applicable) annual out-of-pocket maximum is reached. The Plan Participation rate is shown on the Schedule of Benefits. Any payment for an expense that is not covered under this Plan will be the Covered Person's responsibility. ANNUAL OUT-OF-POCKET MAXIMUMS The annual out-of-pocket maximum is the most the Covered Person pays each year for Covered Expenses. There are separate in-network and out-of-network out-of-pocket maximums for this Plan. Annual out-of-pocket maximums are shown on the Schedule of Benefits. Amounts the Covered Person Incurs for Covered Expenses will be used to satisfy the Covered Person's (or family's, if applicable) annual out-of-pocket maximum(s). If the Covered Person's out-of-pocket expenses in a Plan Year exceed the annual out-of-pocket maximum, the Plan pays 100% of the Covered Expenses through the end of the Plan Year. The following will not be used to meet the out-of-pocket maximums: _Penalties, legal fees and interest charged by a provider. Any amounts over the Recognized Amount, Usual and Customary amount, Negotiated Rate or established fee schedule that this Plan pays. \", metadata={'source': 's3://sagemaker-us-east-1-710096454740/bedrock-sample/health_plan.pdf', 'page': 4}),\n",
       " Document(page_content='NO FORGIVENESS OF OUT-OF-POCKET EXPENSES The Covered Person is required to pay the out-of-pocket expenses (including Deductibles, Co-pays or required Plan Participation) under the terms of this Plan. The requirement that You and Your Dependent(s) pay the applicable out-of-pocket expenses cannot be waived by a provider under any \"fee forgiveness\", \"not out-of-pocket\" or similar arrangement. If a provider waives the required out-of-pocket expenses, the Covered Person\\'s claim may be denied and the Covered Person will be responsible for payment of the entire claim. The claim(s) may be reconsidered if the Covered Person provides satisfactory proof that he or she paid the out-of-pocket expenses under the terms of this Plan. OUT-OF-POCKET EXPENSES AND MAXIMUMS Benefit Plan(s) 003, 004 DEDUCTIBLES A Deductible is an amount of money paid once per Plan Year by the Covered Person before any Covered Expenses are paid by this Plan. A Deductible applies to each Covered Person up to a family Deductible limit. When a new Plan Year begins, a new Deductible must be satisfied. Deductible amounts are shown on the Schedule of Benefits. Generally, the applicable Deductible must be met before any benefits will be paid under this Plan. However, certain covered benefits may be considered Preventive / Routine Care and paid first dollar. The Deductible amounts that the Covered Person Incurs for Covered Expenses, including covered Pharmacy expenses, will be used to satisfy the Deductible(s) shown on the Schedule of Benefits. The Deductible amounts that the Covered Person Incurs at an in-network provider will apply to the in- network total individual and family Deductible. The Deductible amounts that the Covered Person Incurs at an out-of-network provider will apply to the out-of-network total individual and family Deductible. NO FORGIVENESS OF OUT-OF-POCKET EXPENSES The Covered Person is required to pay the out-of-pocket expenses (including Deductibles, Co-pays or required Plan Participation) under the terms of this Plan. The requirement that You and Your Dependent(s) pay the applicable out-of-pocket expenses cannot be waived by a provider under any \"fee forgiveness\", \"not out-of-pocket\" or similar arrangement. If a provider waives the required out-of-pocket expenses, the Covered Person\\'s claim may be denied and the Covered Person will be responsible for payment of the entire claim. The claim(s) may be reconsidered if the Covered Person provides satisfactory proof that he or she paid the out-of-pocket expenses under the terms of this Plan. OUT-OF-POCKET EXPENSES AND MAXIMUMS Benefit Plan(s) 003, 004 DEDUCTIBLES A Deductible is an amount of money paid once per Plan Year by the Covered Person before any Covered Expenses are paid by this Plan. A Deductible applies to each Covered Person up to a family Deductible limit. When a new Plan Year begins, a new Deductible must be satisfied. Deductible amounts are shown on the Schedule of Benefits. Generally, the applicable Deductible must be met before any benefits will be paid under this Plan. However, certain covered benefits may be considered Preventive / Routine Care and paid first dollar. The Deductible amounts that the Covered Person Incurs for Covered Expenses, including covered Pharmacy expenses, will be used to satisfy the Deductible(s) shown on the Schedule of Benefits. The Deductible amounts that the Covered Person Incurs at an in-network provider will apply to the in- network total individual and family Deductible. The Deductible amounts that the Covered Person Incurs at an out-of-network provider will apply to the out-of-network total individual and family Deductible. ', metadata={'source': 's3://sagemaker-us-east-1-710096454740/bedrock-sample/health_plan.pdf', 'page': 5})]"
      ]
     },
     "execution_count": 35,
     "metadata": {},
     "output_type": "execute_result"
    }
   ],
   "source": [
    "from langchain.document_loaders import AmazonTextractPDFLoader\n",
    "from langchain.llms import Bedrock\n",
    "\n",
    "bedrock_llm = Bedrock(client=bedrock, model_id=\"anthropic.claude-v1\")\n",
    "\n",
    "loader = AmazonTextractPDFLoader(f\"s3://{data_bucket}/bedrock-sample/health_plan.pdf\")\n",
    "document = loader.load()\n",
    "\n",
    "document"
   ]
  },
  {
   "cell_type": "markdown",
   "id": "befeda3c-1608-4b4f-9625-c02771cfe202",
   "metadata": {},
   "source": [
    "Amazon Textract PDF Loader module has returned per page text. Since with 100k context we have a pretty healthy context window we don't need to further split this. Let's see the per page token size."
   ]
  },
  {
   "cell_type": "code",
   "execution_count": 38,
   "id": "b4adaa45-cd1d-4687-9911-50d7fa53b488",
   "metadata": {
    "tags": []
   },
   "outputs": [
    {
     "name": "stdout",
     "output_type": "stream",
     "text": [
      "There are 5 pages in the document\n",
      "Page 1 has approx. 533 tokens\n",
      "Page 2 has approx. 1323 tokens\n",
      "Page 3 has approx. 997 tokens\n",
      "Page 4 has approx. 1643 tokens\n",
      "Page 5 has approx. 867 tokens\n"
     ]
    }
   ],
   "source": [
    "num_docs = len(document)\n",
    "print (f\"There are {num_docs} pages in the document\")\n",
    "for index, doc in enumerate(document):\n",
    "    num_tokens_first_doc = bedrock_llm.get_num_tokens(doc.page_content)\n",
    "    print (f\"Page {index+1} has approx. {num_tokens_first_doc} tokens\")"
   ]
  },
  {
   "cell_type": "markdown",
   "id": "e988e759-4249-4166-b49b-921ec5f2ad12",
   "metadata": {},
   "source": [
    "We will use LangChain `load_summarize_chain` with a `map_reduce` chain type. For more information on Summarization techniques with LangChain refer to [this document](https://python.langchain.com/docs/use_cases/summarization)."
   ]
  },
  {
   "cell_type": "code",
   "execution_count": 39,
   "id": "d771fcf9-a7af-4161-bdb7-f605c4a4f5ed",
   "metadata": {
    "scrolled": true,
    "tags": []
   },
   "outputs": [
    {
     "name": "stdout",
     "output_type": "stream",
     "text": [
      "\n",
      "\n",
      "\u001b[1m> Entering new MapReduceDocumentsChain chain...\u001b[0m\n",
      "\n",
      "\n",
      "\u001b[1m> Entering new LLMChain chain...\u001b[0m\n",
      "Prompt after formatting:\n",
      "\u001b[32;1m\u001b[1;3mWrite a concise summary of the following:\n",
      "\n",
      "\n",
      "\"Health Benefit Summary Plan Description Revised 01-01-2022 BENEFITS Healthcare Policy Plan Vision: To provide high quality, affordable healthcare for all citizens. Mission: To implement policy reforms and programs that expand access to healthcare, reduce costs, and improve health outcomes. Goals: 1. Achieve universal healthcare coverage. Provide health insurance for all citizens regardless of income or health status. 2. Reduce healthcare costs for individuals and government. Implement policies and programs to lower premiums, out-of-pocket costs, and overall healthcare spending. 3. Improve population health. Invest in public health programs and prevention to promote healthy lifestyles, reduce health risks, and improve health outcomes. 4. Support healthcare innovation. Invest in research and new technologies to improve treatments, cures, and the healthcare system. Policy Reforms: 1. Establish a public healthcare option. Provide a government-run health plan to compete with private insurers and drive down costs. 2. Expand Medicaid coverage. Increase income eligibility limits for Medicaid to extend coverage to more low-income individuals. 3. Require insurance companies to cover pre-existing conditions. Prohibit denial of coverage or higher premiums due to health status. 4. Increase healthcare subsidies and tax credits. Make health insurance more affordable for middle- income individuals and families. 5. Invest in preventive care and public health. Increase Health Benefit Summary Plan Description Revised 01-01-2022 BENEFITS Healthcare Policy Plan Vision: To provide high quality, affordable healthcare for all citizens. Mission: To implement policy reforms and programs that expand access to healthcare, reduce costs, and improve health outcomes. Goals: 1. Achieve universal healthcare coverage. Provide health insurance for all citizens regardless of income or health status. 2. Reduce healthcare costs for individuals and government. Implement policies and programs to lower premiums, out-of-pocket costs, and overall healthcare spending. 3. Improve population health. Invest in public health programs and prevention to promote healthy lifestyles, reduce health risks, and improve health outcomes. 4. Support healthcare innovation. Invest in research and new technologies to improve treatments, cures, and the healthcare system. Policy Reforms: 1. Establish a public healthcare option. Provide a government-run health plan to compete with private insurers and drive down costs. 2. Expand Medicaid coverage. Increase income eligibility limits for Medicaid to extend coverage to more low-income individuals. 3. Require insurance companies to cover pre-existing conditions. Prohibit denial of coverage or higher premiums due to health status. 4. Increase healthcare subsidies and tax credits. Make health insurance more affordable for middle- income individuals and families. 5. Invest in preventive care and public health. Increase \"\n",
      "\n",
      "\n",
      "CONCISE SUMMARY:\u001b[0m\n",
      "Prompt after formatting:\n",
      "\u001b[32;1m\u001b[1;3mWrite a concise summary of the following:\n",
      "\n",
      "\n",
      "\"The purpose of this document is to provide You and Your covered Dependents, if any, with summary information in English on benefits available under this Plan as well as with information on a Covered Person's rights and obligations under the ANYCOMPANY, INC. Group Health Benefit Plan (the \"Plan\"). You are a valued Employee of ANYCOMPANY, INC., and Your employer is pleased to sponsor this Plan to provide benefits that can help meet Your health care needs. Please read this document carefully and contact Your Human Resources or Personnel office if You have questions or if You have difficulty translating this document. ANYCOMPANY, INC. is named the Plan Administrator for this Plan. The Plan Administrator has retained the services of independent Third Party Administrators to process claims and handle other duties for this self-funded Plan. The Third Party Administrators for this Plan are UMR, Inc. (hereinafter \"UMR\") for medical claims, and Express Scripts for pharmacy claims. The Third Party Administrators do not assume liability for benefits payable under this Plan, since they are solely claims-paying agents for the Plan Administrator. The employer assumes the sole responsibility for funding the Plan benefits out of general assets; however, Employees help cover some of the costs of covered benefits through contributions, Deductibles, out-of-pocket amounts, and Plan Participation amounts as described in the Schedule of Benefits. All claim payments and reimbursements are paid out of the general assets of the employer and there is no separate fund that is used to pay promised benefits. The Plan is intended to comply with and be governed by the Employee Retirement Income Security Act of 1974 (ERISA) and its amendments. Some of the terms used in this document begin with capital letters, even though such terms normally would not be capitalized. These terms have special meaning under the Plan. Most capitalized terms are listed in the Glossary of Terms, but some are defined within the provisions in which they are used. Becoming familiar with the terms defined in the Glossary of Terms will help You to better understand the provisions of this Plan. Each individual covered under this Plan will be receiving an identification card that he or she may present to providers whenever he or she receives services. On the back of this card are phone numbers to call in case of questions or problems. This document contains information on the benefits and limitations of the Plan and will serve as both the Summary Plan Description (SPD) and Plan document. Therefore it will be referred to as both the SPD and the Plan document. It is being furnished to You in accordance with ABC. This document became effective on January 1, 2019. PLAN INFORMATION Plan Name ANYCOMPANY INC Name And Address Of Employer ANYCOMPANY, INC 123 ANY STREET ANY CITY CA, 92127 Name, Address, And Phone Number ANYCOMPANY, INC Of Plan Administrator 123 ANY STREET ANY CITY CA, 92127 866-648-0044 Named Fiduciary ANYCOMPANY, INC. Claims Appeal Fiduciary For Medical Claims UMR Employer Identification Number Assigned By 12-34567890 The IRS Plan Number Assigned By The Plan 511 Type Of Benefit Plan Provided Self-funded Health and Welfare Plan providing group health benefits. The purpose of this document is to provide You and Your covered Dependents, if any, with summary information in English on benefits available under this Plan as well as with information on a Covered Person's rights and obligations under the ANYCOMPANY, INC. Group Health Benefit Plan (the \"Plan\"). You are a valued Employee of ANYCOMPANY, INC., and Your employer is pleased to sponsor this Plan to provide benefits that can help meet Your health care needs. Please read this document carefully and contact Your Human Resources or Personnel office if You have questions or if You have difficulty translating this document. ANYCOMPANY, INC. is named the Plan Administrator for this Plan. The Plan Administrator has retained the services of independent Third Party Administrators to process claims and handle other duties for this self-funded Plan. The Third Party Administrators for this Plan are UMR, Inc. (hereinafter \"UMR\") for medical claims, and Express Scripts for pharmacy claims. The Third Party Administrators do not assume liability for benefits payable under this Plan, since they are solely claims-paying agents for the Plan Administrator. The employer assumes the sole responsibility for funding the Plan benefits out of general assets; however, Employees help cover some of the costs of covered benefits through contributions, Deductibles, out-of-pocket amounts, and Plan Participation amounts as described in the Schedule of Benefits. All claim payments and reimbursements are paid out of the general assets of the employer and there is no separate fund that is used to pay promised benefits. The Plan is intended to comply with and be governed by the Employee Retirement Income Security Act of 1974 (ERISA) and its amendments. Some of the terms used in this document begin with capital letters, even though such terms normally would not be capitalized. These terms have special meaning under the Plan. Most capitalized terms are listed in the Glossary of Terms, but some are defined within the provisions in which they are used. Becoming familiar with the terms defined in the Glossary of Terms will help You to better understand the provisions of this Plan. Each individual covered under this Plan will be receiving an identification card that he or she may present to providers whenever he or she receives services. On the back of this card are phone numbers to call in case of questions or problems. This document contains information on the benefits and limitations of the Plan and will serve as both the Summary Plan Description (SPD) and Plan document. Therefore it will be referred to as both the SPD and the Plan document. It is being furnished to You in accordance with ABC. This document became effective on January 1, 2019. PLAN INFORMATION Plan Name ANYCOMPANY INC Name And Address Of Employer ANYCOMPANY, INC 123 ANY STREET ANY CITY CA, 92127 Name, Address, And Phone Number ANYCOMPANY, INC Of Plan Administrator 123 ANY STREET ANY CITY CA, 92127 866-648-0044 Named Fiduciary ANYCOMPANY, INC. Claims Appeal Fiduciary For Medical Claims UMR Employer Identification Number Assigned By 12-34567890 The IRS Plan Number Assigned By The Plan 511 Type Of Benefit Plan Provided Self-funded Health and Welfare Plan providing group health benefits. \"\n",
      "\n",
      "\n",
      "CONCISE SUMMARY:\u001b[0m\n",
      "Prompt after formatting:\n",
      "\u001b[32;1m\u001b[1;3mWrite a concise summary of the following:\n",
      "\n",
      "\n",
      "\"Type Of Administration The administration of the Plan is under the supervision of the Plan Administrator. The Plan is not financed by an insurance company and benefits are not guaranteed by a contract of insurance. Name And Address Of Agent For Service Of ANYCOMPANY, INC Legal Process 123 ANY STREET ANY CITY CA, 92127 Funding Of The Plan Employer and Employee Contributions Benefits are provided by a benefit Plan maintained on a self-insured basis by Your employer. Benefit Plan Year Benefits begin on January 1 and end on the following December 31. For new Employees and Dependents, a Benefit Plan Year begins on the individual's Effective Date and runs through December 31 of the same Benefit Plan Year. Plan Year January 1 through December 31 And Other Federal Compliance It is intended that this Plan comply with all applicable requirements of ABC and other federal regulations. In the event of any conflict between this Plan and ABC or other federal regulations, the provisions of ABC and the federal regulations will be deemed controlling, and any conflicting part of this Plan will be deemed superseded to the extent of the conflict. Benefit Plan(s) 001 All health benefits shown on this Schedule of Benefits are subject to the following: Deductibles, Co-pays, Plan Participation rates, and out-of-pocket maximums, if any. Refer to the Out-of-Pocket Expenses and Maximums section of this SPD for more details. Benefits listed in this Schedule of Benefits are subject to all provisions of the Plan, including any benefit determination based on an evaluation of medical facts and covered benefits. Refer to the Covered Medical Benefits and General Exclusions sections of this SPD for more details. Important: Prior authorization may be required before benefits will be considered for payment. Failure to obtain prior authorization may result in a penalty or increased out-of-pocket costs. Refer to the Care Coordination Process section of this SPD for a description of these services and prior authorization procedures. Note: Refer to the Provider Network section for clarifications and possible exceptions to the in-network or out-of-network classifications. If a benefit maximum is listed in the middle of a column on the Schedule of Benefits, it is a combined Maximum Benefit for services that the Covered Person receives from all in-network and out-of-network providers and facilities. IN-NETWORK Annual deductible per calendar year per person is $5000 and per family deductible per calendar year is $10,000, and individual embedded deductible is $5000. Type Of Administration The administration of the Plan is under the supervision of the Plan Administrator. The Plan is not financed by an insurance company and benefits are not guaranteed by a contract of insurance. Name And Address Of Agent For Service Of ANYCOMPANY, INC Legal Process 123 ANY STREET ANY CITY CA, 92127 Funding Of The Plan Employer and Employee Contributions Benefits are provided by a benefit Plan maintained on a self-insured basis by Your employer. Benefit Plan Year Benefits begin on January 1 and end on the following December 31. For new Employees and Dependents, a Benefit Plan Year begins on the individual's Effective Date and runs through December 31 of the same Benefit Plan Year. Plan Year January 1 through December 31 And Other Federal Compliance It is intended that this Plan comply with all applicable requirements of ABC and other federal regulations. In the event of any conflict between this Plan and ABC or other federal regulations, the provisions of ABC and the federal regulations will be deemed controlling, and any conflicting part of this Plan will be deemed superseded to the extent of the conflict. Benefit Plan(s) 001 All health benefits shown on this Schedule of Benefits are subject to the following: Deductibles, Co-pays, Plan Participation rates, and out-of-pocket maximums, if any. Refer to the Out-of-Pocket Expenses and Maximums section of this SPD for more details. Benefits listed in this Schedule of Benefits are subject to all provisions of the Plan, including any benefit determination based on an evaluation of medical facts and covered benefits. Refer to the Covered Medical Benefits and General Exclusions sections of this SPD for more details. Important: Prior authorization may be required before benefits will be considered for payment. Failure to obtain prior authorization may result in a penalty or increased out-of-pocket costs. Refer to the Care Coordination Process section of this SPD for a description of these services and prior authorization procedures. Note: Refer to the Provider Network section for clarifications and possible exceptions to the in-network or out-of-network classifications. If a benefit maximum is listed in the middle of a column on the Schedule of Benefits, it is a combined Maximum Benefit for services that the Covered Person receives from all in-network and out-of-network providers and facilities. IN-NETWORK Annual deductible per calendar year per person is $5000 and per family deductible per calendar year is $10,000, and individual embedded deductible is $5000. \"\n",
      "\n",
      "\n",
      "CONCISE SUMMARY:\u001b[0m\n",
      "Prompt after formatting:\n",
      "\u001b[32;1m\u001b[1;3mWrite a concise summary of the following:\n",
      "\n",
      "\n",
      "\"Note: Embedded Deductible Means That If You Have Family Coverage, Any Combination Of Covered Family Members May Help Meet The Maximum Family Deductible; However, No One Person Will Pay More Than His Or Her Embedded Individual Deductible Amount. Annual Total Out-Of-Pocket Maximum: Note: Medical And Pharmacy Expenses Are Subject To The Same Out-Of-Pocket Maximum. Pharmacy out of pocket maximum per person is $6000 and for family out of pocket maximum is $12000 Note: Embedded Out-Of-Pocket Maximum Means That If You Have Family Coverage, Any Combination Of Covered Family Members May Help Meet The Family Out-Of-Pocket Maximum; However, No One Person Will Pay More Than His Or Her Embedded Individual Out-Of-Pocket Maximum Amount. OUT-OF-POCKET EXPENSES AND MAXIMUMS Benefit Plan(s) 001, 002, 005 CO-PAYS A Co-pay is the amount that the Covered Person pays each time certain services are received. The Co- pay is typically a flat dollar amount and is paid at the time of service or when billed by the provider. Co- pays do not apply toward satisfaction of Deductibles. Co-pays apply toward satisfaction of in-network and out-of-network out-of-pocket maximums. The Co-pay and out-of-pocket maximum are shown on the Schedule of Benefits. DEDUCTIBLES A Deductible is an amount of money paid once per Plan Year by the Covered Person before any Covered Expenses are paid by this Plan. A Deductible applies to each Covered Person up to a family Deductible limit. When a new Plan Year begins, a new Deductible must be satisfied. Deductible amounts are shown on the Schedule of Benefits. Pharmacy expenses do not count toward meeting the Deductible of this Plan. The Deductible amounts that the Covered Person Incurs for Covered Expenses will be used to satisfy the Deductible(s) shown on the Schedule of Benefits. The Deductible amounts that the Covered Person Incurs at an in-network provider will apply to the in- network total individual and family Deductible. The Deductible amounts that the Covered Person Incurs at an out-of-network provider will apply to the out-of-network total individual and family Deductible. PLAN PARTICIPATION Plan Participation is the percentage of Covered Expenses that the Covered Person is responsible for paying after the Deductible is met. The Covered Person pays this percentage until the Covered Person's (or family's, if applicable) annual out-of-pocket maximum is reached. The Plan Participation rate is shown on the Schedule of Benefits. Any payment for an expense that is not covered under this Plan will be the Covered Person's responsibility. ANNUAL OUT-OF-POCKET MAXIMUMS The annual out-of-pocket maximum is the most the Covered Person pays each year for Covered Expenses. There are separate in-network and out-of-network out-of-pocket maximums for this Plan. Annual out-of-pocket maximums are shown on the Schedule of Benefits. Amounts the Covered Person Incurs for Covered Expenses will be used to satisfy the Covered Person's (or family's, if applicable) annual out-of-pocket maximum(s). If the Covered Person's out-of-pocket expenses in a Plan Year exceed the annual out-of-pocket maximum, the Plan pays 100% of the Covered Expenses through the end of the Plan Year. The following will not be used to meet the out-of-pocket maximums: _Penalties, legal fees and interest charged by a provider. Any amounts over the Recognized Amount, Usual and Customary amount, Negotiated Rate or established fee schedule that this Plan pays. Note: Embedded Deductible Means That If You Have Family Coverage, Any Combination Of Covered Family Members May Help Meet The Maximum Family Deductible; However, No One Person Will Pay More Than His Or Her Embedded Individual Deductible Amount. Annual Total Out-Of-Pocket Maximum: Note: Medical And Pharmacy Expenses Are Subject To The Same Out-Of-Pocket Maximum. Pharmacy out of pocket maximum per person is $6000 and for family out of pocket maximum is $12000 Note: Embedded Out-Of-Pocket Maximum Means That If You Have Family Coverage, Any Combination Of Covered Family Members May Help Meet The Family Out-Of-Pocket Maximum; However, No One Person Will Pay More Than His Or Her Embedded Individual Out-Of-Pocket Maximum Amount. OUT-OF-POCKET EXPENSES AND MAXIMUMS Benefit Plan(s) 001, 002, 005 CO-PAYS A Co-pay is the amount that the Covered Person pays each time certain services are received. The Co- pay is typically a flat dollar amount and is paid at the time of service or when billed by the provider. Co- pays do not apply toward satisfaction of Deductibles. Co-pays apply toward satisfaction of in-network and out-of-network out-of-pocket maximums. The Co-pay and out-of-pocket maximum are shown on the Schedule of Benefits. DEDUCTIBLES A Deductible is an amount of money paid once per Plan Year by the Covered Person before any Covered Expenses are paid by this Plan. A Deductible applies to each Covered Person up to a family Deductible limit. When a new Plan Year begins, a new Deductible must be satisfied. Deductible amounts are shown on the Schedule of Benefits. Pharmacy expenses do not count toward meeting the Deductible of this Plan. The Deductible amounts that the Covered Person Incurs for Covered Expenses will be used to satisfy the Deductible(s) shown on the Schedule of Benefits. The Deductible amounts that the Covered Person Incurs at an in-network provider will apply to the in- network total individual and family Deductible. The Deductible amounts that the Covered Person Incurs at an out-of-network provider will apply to the out-of-network total individual and family Deductible. PLAN PARTICIPATION Plan Participation is the percentage of Covered Expenses that the Covered Person is responsible for paying after the Deductible is met. The Covered Person pays this percentage until the Covered Person's (or family's, if applicable) annual out-of-pocket maximum is reached. The Plan Participation rate is shown on the Schedule of Benefits. Any payment for an expense that is not covered under this Plan will be the Covered Person's responsibility. ANNUAL OUT-OF-POCKET MAXIMUMS The annual out-of-pocket maximum is the most the Covered Person pays each year for Covered Expenses. There are separate in-network and out-of-network out-of-pocket maximums for this Plan. Annual out-of-pocket maximums are shown on the Schedule of Benefits. Amounts the Covered Person Incurs for Covered Expenses will be used to satisfy the Covered Person's (or family's, if applicable) annual out-of-pocket maximum(s). If the Covered Person's out-of-pocket expenses in a Plan Year exceed the annual out-of-pocket maximum, the Plan pays 100% of the Covered Expenses through the end of the Plan Year. The following will not be used to meet the out-of-pocket maximums: _Penalties, legal fees and interest charged by a provider. Any amounts over the Recognized Amount, Usual and Customary amount, Negotiated Rate or established fee schedule that this Plan pays. \"\n",
      "\n",
      "\n",
      "CONCISE SUMMARY:\u001b[0m\n",
      "Prompt after formatting:\n",
      "\u001b[32;1m\u001b[1;3mWrite a concise summary of the following:\n",
      "\n",
      "\n",
      "\"NO FORGIVENESS OF OUT-OF-POCKET EXPENSES The Covered Person is required to pay the out-of-pocket expenses (including Deductibles, Co-pays or required Plan Participation) under the terms of this Plan. The requirement that You and Your Dependent(s) pay the applicable out-of-pocket expenses cannot be waived by a provider under any \"fee forgiveness\", \"not out-of-pocket\" or similar arrangement. If a provider waives the required out-of-pocket expenses, the Covered Person's claim may be denied and the Covered Person will be responsible for payment of the entire claim. The claim(s) may be reconsidered if the Covered Person provides satisfactory proof that he or she paid the out-of-pocket expenses under the terms of this Plan. OUT-OF-POCKET EXPENSES AND MAXIMUMS Benefit Plan(s) 003, 004 DEDUCTIBLES A Deductible is an amount of money paid once per Plan Year by the Covered Person before any Covered Expenses are paid by this Plan. A Deductible applies to each Covered Person up to a family Deductible limit. When a new Plan Year begins, a new Deductible must be satisfied. Deductible amounts are shown on the Schedule of Benefits. Generally, the applicable Deductible must be met before any benefits will be paid under this Plan. However, certain covered benefits may be considered Preventive / Routine Care and paid first dollar. The Deductible amounts that the Covered Person Incurs for Covered Expenses, including covered Pharmacy expenses, will be used to satisfy the Deductible(s) shown on the Schedule of Benefits. The Deductible amounts that the Covered Person Incurs at an in-network provider will apply to the in- network total individual and family Deductible. The Deductible amounts that the Covered Person Incurs at an out-of-network provider will apply to the out-of-network total individual and family Deductible. NO FORGIVENESS OF OUT-OF-POCKET EXPENSES The Covered Person is required to pay the out-of-pocket expenses (including Deductibles, Co-pays or required Plan Participation) under the terms of this Plan. The requirement that You and Your Dependent(s) pay the applicable out-of-pocket expenses cannot be waived by a provider under any \"fee forgiveness\", \"not out-of-pocket\" or similar arrangement. If a provider waives the required out-of-pocket expenses, the Covered Person's claim may be denied and the Covered Person will be responsible for payment of the entire claim. The claim(s) may be reconsidered if the Covered Person provides satisfactory proof that he or she paid the out-of-pocket expenses under the terms of this Plan. OUT-OF-POCKET EXPENSES AND MAXIMUMS Benefit Plan(s) 003, 004 DEDUCTIBLES A Deductible is an amount of money paid once per Plan Year by the Covered Person before any Covered Expenses are paid by this Plan. A Deductible applies to each Covered Person up to a family Deductible limit. When a new Plan Year begins, a new Deductible must be satisfied. Deductible amounts are shown on the Schedule of Benefits. Generally, the applicable Deductible must be met before any benefits will be paid under this Plan. However, certain covered benefits may be considered Preventive / Routine Care and paid first dollar. The Deductible amounts that the Covered Person Incurs for Covered Expenses, including covered Pharmacy expenses, will be used to satisfy the Deductible(s) shown on the Schedule of Benefits. The Deductible amounts that the Covered Person Incurs at an in-network provider will apply to the in- network total individual and family Deductible. The Deductible amounts that the Covered Person Incurs at an out-of-network provider will apply to the out-of-network total individual and family Deductible. \"\n",
      "\n",
      "\n",
      "CONCISE SUMMARY:\u001b[0m\n",
      "\n",
      "\u001b[1m> Finished chain.\u001b[0m\n",
      "\n",
      "\n",
      "\u001b[1m> Entering new LLMChain chain...\u001b[0m\n",
      "Prompt after formatting:\n",
      "\u001b[32;1m\u001b[1;3mWrite a concise summary of the following:\n",
      "\n",
      "\n",
      "\" Here is a concise summary:\n",
      "\n",
      "The goal of the health policy plan is to achieve universal healthcare coverage, reduce healthcare costs, improve population health, and support innovation. The key policy reforms include establishing a public health insurance option, expanding Medicaid, requiring coverage of preexisting conditions, increasing subsidies and tax credits, and investing in preventive care.\n",
      "\n",
      " Here is a concise summary:\n",
      "\n",
      "The document provides information on the ANYCOMPANY Group Health Benefit Plan, a self-funded health plan governed by ERISA. ANYCOMPANY, the plan sponsor, has hired third-party administrators UMR and Express Scripts to handle medical and pharmacy claims, respectively. The plan covers employees and dependents and is funded by employee and employer contributions. The document serves as both the summary plan description and the official plan document.\n",
      "\n",
      " Here is a concise summary:\n",
      "\n",
      "The health plan is self-funded by the employer, not an insurance company. Plan benefits run on a calendar year. The plan aims to comply with applicable laws. Deductibles and out-of-pocket maximums apply. Prior authorization may be required for some benefits. In-network, the individual deductible is $5,000 and the family deductible is $10,000.\n",
      "\n",
      " Here is a concise summary:\n",
      "\n",
      "The health plan has individual and family deductibles and out-of-pocket maximums. If you have family coverage, expenses from any family member can be combined to meet the family deductible/OOP max. However, no one person will have to pay more than their individual deductible/OOP amount. Pharmacy and medical expenses count toward the same OOP max. The plan has co-pays for certain services that do not apply to deductibles but do apply to OOP maxes. After meeting your deductible, you pay coinsurance until reaching your OOP max. Penalties, legal fees, excess charges don't apply to OOP max.\n",
      "\n",
      " Here is a concise summary:\n",
      "\n",
      "The plan does not allow providers to waive required out-of-pocket costs for covered individuals. If a provider waives these costs, claims may be denied and the individual will be responsible for the full cost. Claims may be reprocessed if proof of paying costs is provided. Deductibles must be met each plan year before the plan pays benefits. Deductible amounts count toward individual and family in-network and out-of-network limits. Certain preventive care may be covered without needing to meet the deductible. \"\n",
      "\n",
      "\n",
      "CONCISE SUMMARY:\u001b[0m\n",
      "\n",
      "\u001b[1m> Finished chain.\u001b[0m\n",
      "\n",
      "\u001b[1m> Finished chain.\u001b[0m\n"
     ]
    }
   ],
   "source": [
    "from langchain.chains.summarize import load_summarize_chain\n",
    "\n",
    "summary_chain = load_summarize_chain(llm=bedrock_llm, chain_type='map_reduce',\n",
    "                                     verbose=True # Set verbose=True if you want to see the prompts being used\n",
    "                                    )\n",
    "output = summary_chain.run(document)"
   ]
  },
  {
   "cell_type": "code",
   "execution_count": 40,
   "id": "1cca6a42-918a-4935-b237-59e2dc1fb477",
   "metadata": {
    "tags": []
   },
   "outputs": [
    {
     "name": "stdout",
     "output_type": "stream",
     "text": [
      "Here is a concise summary:\n",
      "\n",
      "The health benefit plan is a self-funded employer plan governed by ERISA. UMR and Express Scripts administer the medical and pharmacy benefits, respectively. The plan covers employees and dependents, funded by employee/employer contributions. It serves as both the summary plan description and official plan document. \n",
      "\n",
      "The plan has individual/family deductibles and out-of-pocket maximums. Expenses can combine to meet family limits, but individuals won't pay more than individual amounts. Pharmacy/medical costs apply to the same OOP max. Co-pays for some services don't apply to deductibles but do apply to OOP max. After deductibles, members pay coinsurance until reaching OOP max. Some costs are excluded from OOP max.\n",
      "\n",
      "Providers can't waive required member costs; claims may be denied if they do. Waived claims may be reprocessed with proof of payment. Deductibles must be met each year before benefits pay. Deductible amounts apply to in/out-of-network limits. Some preventive care may be covered without meeting the deductible.\n"
     ]
    }
   ],
   "source": [
    "print(output.strip())"
   ]
  },
  {
   "cell_type": "markdown",
   "id": "8ac62d59-5a42-4546-b26a-641db1992cfc",
   "metadata": {},
   "source": [
    "## 3. Standardization\n",
    "---\n",
    "\n",
    "Let's try to standardize dates from our discharge summary document. Note that the document has dates in `DD-MON-YYYY` format, and we want to convert all of those dates to `MM/DD/YYYY` format. We will use simple prompt engineering techniques to show Claude some example and have it generate the output in a JSON format (Key value pair)."
   ]
  },
  {
   "cell_type": "code",
   "execution_count": 47,
   "id": "1c1f1f72-4c9c-4f7e-ad10-0e85bf69d509",
   "metadata": {
    "tags": []
   },
   "outputs": [
    {
     "name": "stdout",
     "output_type": "stream",
     "text": [
      "\n",
      "\n",
      "\u001b[1m> Entering new LLMChain chain...\u001b[0m\n",
      "Prompt after formatting:\n",
      "\u001b[32;1m\u001b[1;3m\n",
      "\n",
      "Given a full document, answer the question and format the output in the format specified. Skip any preamble text and just generate the JSON.\n",
      "\n",
      "<format>\n",
      "{\n",
      "  \"key_name\":\"key_value\"\n",
      "}\n",
      "</format>\n",
      "<document>Not a Memorial Hospital Of Collier Reg: PN/S/11011, Non-Profit Contact: (999)-(888)-(1234) Physician Hospital Discharge Summary Provider: Mateo Jackson, Phd Patient: John Doe Provider's Pt ID: 00988277891 Patient Gender: Male Attachment Control Number: XA/7B/00338763 Visit (Encounter) Admitted: 07-Sep-2020 Discharged: 08-Sep-2020 Discharged to: Home with support services Assessment Reported Symptoms / History 35 yo M c/o stomach problems since 2 montsh ago. Patient reports epigastric abdominal pain non-radiating. Pain is of present illness: described as gnawing and burning, intermitent lasting 1-2 hours, and gotten progressively worse. Antacids used to alleviate pain but not anymore; nothing exhacerbates pain. Pain unrelated to daytime or to meals. Patient denies constipation or diarrhea. Patient denies blood in stool but have noticed them darker. Patient also reports nausea. Denies recent illness or fever. He also reports fatigue since 2 weeks ago and bloating after eating. Patient ID: NARH-36640 ROS: Negative except for above findings Meds: Motrin once/week. Tums previously. PMHX: Back pain and muscle spasms. No HX of surgery. NKDA. FHX: Uncle has a bleeding ulcer. Social Hx: Smokes since 15 yo, 1/2-1 PPD. No recent EtOH use. Denies illicit drug use. works on high elevation construction. Fast food diet. Exercises 3-4 times/week but stopped 2 weeks ago. Discharge Discharge Studies Summary: Some activity restrictions suggested, full course of antibiotics, check back with physican in case of relapse, strict diet VS/3S/Q990-7550/1090001004290 Not a Memorial Hospital Of Collier Reg: PN/S/11011, Non-Profit Contact: (999)-(888)-(1234) Physician Hospital Discharge Summary Provider: Mateo Jackson, Phd Patient: John Doe Provider's Pt ID: 00988277891 Patient Gender: Male Attachment Control Number: XA/7B/00338763 Visit (Encounter) Admitted: 07-Sep-2020 Discharged: 08-Sep-2020 Discharged to: Home with support services Assessment Reported Symptoms / History 35 yo M c/o stomach problems since 2 montsh ago. Patient reports epigastric abdominal pain non-radiating. Pain is of present illness: described as gnawing and burning, intermitent lasting 1-2 hours, and gotten progressively worse. Antacids used to alleviate pain but not anymore; nothing exhacerbates pain. Pain unrelated to daytime or to meals. Patient denies constipation or diarrhea. Patient denies blood in stool but have noticed them darker. Patient also reports nausea. Denies recent illness or fever. He also reports fatigue since 2 weeks ago and bloating after eating. Patient ID: NARH-36640 ROS: Negative except for above findings Meds: Motrin once/week. Tums previously. PMHX: Back pain and muscle spasms. No HX of surgery. NKDA. FHX: Uncle has a bleeding ulcer. Social Hx: Smokes since 15 yo, 1/2-1 PPD. No recent EtOH use. Denies illicit drug use. works on high elevation construction. Fast food diet. Exercises 3-4 times/week but stopped 2 weeks ago. Discharge Discharge Studies Summary: Some activity restrictions suggested, full course of antibiotics, check back with physican in case of relapse, strict diet VS/3S/Q990-7550/1090001004290 </document>\n",
      "<question>Can you give me the patient admitted and discharge dates?</question>\u001b[0m\n",
      "\n",
      "\u001b[1m> Finished chain.\u001b[0m\n",
      "\n",
      "\n",
      "\u001b[1m> Entering new LLMChain chain...\u001b[0m\n",
      "Prompt after formatting:\n",
      "\u001b[32;1m\u001b[1;3m\n",
      "\n",
      "Given a JSON document, format the dates in the value fields precisely in the provided format. Skip any preamble text and just generate the JSON.\n",
      "\n",
      "<format>DD/MM/YYYY</format>\n",
      "<json_document> {\n",
      "  \"admit_date\":\"07-Sep-2020\",\n",
      "  \"discharge_date\":\"08-Sep-2020\"\n",
      "}</json_document>\n",
      "\u001b[0m\n",
      "\n",
      "\u001b[1m> Finished chain.\u001b[0m\n",
      " {\n",
      "  \"admit_date\":\"07/09/2020\",\n",
      "  \"discharge_date\":\"08/09/2020\"\n",
      "}\n"
     ]
    }
   ],
   "source": [
    "from langchain.document_loaders import AmazonTextractPDFLoader\n",
    "from langchain.llms import Bedrock\n",
    "from langchain.prompts import PromptTemplate\n",
    "from langchain.chains import LLMChain\n",
    "\n",
    "loader = AmazonTextractPDFLoader(\"./samples/discharge-summary.png\")\n",
    "document = loader.load()\n",
    "\n",
    "bedrock_llm = Bedrock(client=bedrock, model_id=\"anthropic.claude-v1\")\n",
    "\n",
    "template1 = \"\"\"\n",
    "\n",
    "Given a full document, answer the question and format the output in the format specified. Skip any preamble text and just generate the JSON.\n",
    "\n",
    "<format>\n",
    "{{\n",
    "  \"key_name\":\"key_value\"\n",
    "}}\n",
    "</format>\n",
    "<document>{doc_text}</document>\n",
    "<question>{question}</question>\"\"\"\n",
    "\n",
    "template2 = \"\"\"\n",
    "\n",
    "Given a JSON document, format the dates in the value fields precisely in the provided format. Skip any preamble text and just generate the JSON.\n",
    "\n",
    "<format>DD/MM/YYYY</format>\n",
    "<json_document>{json_doc}</json_document>\n",
    "\"\"\"\n",
    "\n",
    "\n",
    "prompt1 = PromptTemplate(template=template1, input_variables=[\"doc_text\", \"question\"])\n",
    "llm_chain = LLMChain(prompt=prompt1, llm=bedrock_llm, verbose=True)\n",
    "\n",
    "prompt2 = PromptTemplate(template=template2, input_variables=[\"json_doc\"])\n",
    "llm_chain2 = LLMChain(prompt=prompt2, llm=bedrock_llm, verbose=True)\n",
    "\n",
    "chain = ( \n",
    "    llm_chain \n",
    "    | {'json_doc': lambda x: x['text'] }  \n",
    "    | llm_chain2\n",
    ")\n",
    "\n",
    "std_op = chain.invoke({ \"doc_text\": document[0].page_content, \n",
    "                        \"question\": \"Can you give me the patient admitted and discharge dates?\"})\n",
    "\n",
    "print(std_op['text'])"
   ]
  },
  {
   "cell_type": "markdown",
   "id": "64c53095-d4ed-4732-9846-e8e427d01711",
   "metadata": {},
   "source": [
    "And we get a nicely formatted JSON output"
   ]
  },
  {
   "cell_type": "markdown",
   "id": "77b249e4-8028-4998-8d4a-7f72d7855b38",
   "metadata": {},
   "source": [
    "## 4. Spell check and corrections\n",
    "---\n",
    "\n",
    "Perform grammatical and spelling corrections on text extracted from a hand written document."
   ]
  },
  {
   "cell_type": "code",
   "execution_count": 58,
   "id": "c9e3bd16-665a-4cd1-b520-46bfb39e0736",
   "metadata": {
    "tags": []
   },
   "outputs": [
    {
     "name": "stdout",
     "output_type": "stream",
     "text": [
      "Extracted text\n",
      "==============\n",
      "Patient John Doe, who was ad mitta with sever pnequonia, has shown Signif i art improumet & can be safely discharged. Follow w/s are scheduled for nen week. Patient John Doe, who was ad mitta with sever pnequonia, has shown Signif i art improumet & can be safely discharged. Follow w/s are scheduled for nen week. \n",
      "\n",
      "Corrected text\n",
      "==============\n",
      "Patient John Doe, who was admitted with severe pneumonia, has shown significant improvement and can be safely discharged. Follow-up appointments are scheduled for next week.\n",
      "\n",
      "\n"
     ]
    }
   ],
   "source": [
    "from langchain.document_loaders import AmazonTextractPDFLoader\n",
    "from langchain.llms import Bedrock\n",
    "from langchain.prompts import PromptTemplate\n",
    "from langchain.chains import LLMChain\n",
    "\n",
    "loader = AmazonTextractPDFLoader(\"./samples/hand_written_note.pdf\")\n",
    "document = loader.load()\n",
    "\n",
    "template = \"\"\"\n",
    "\n",
    "Given a detailed 'Document', perform spelling and grammatical corrections. Ensure the output is coherent, polished, and free from errors. Skip any preamble text and give the answer.\n",
    "\n",
    "<document>{doc_text}</<document>\n",
    "<answer>\n",
    "\"\"\"\n",
    "\n",
    "prompt = PromptTemplate(template=template, input_variables=[\"doc_text\"])\n",
    "llm = Bedrock(client=bedrock, model_id=\"anthropic.claude-v1\")\n",
    "llm_chain = LLMChain(prompt=prompt, llm=llm)\n",
    "\n",
    "try:\n",
    "    txt = document[0].page_content\n",
    "    std_op = llm_chain.run({\"doc_text\": txt})\n",
    "    \n",
    "    print(\"Extracted text\")\n",
    "    print(\"==============\")\n",
    "    print(txt)\n",
    "\n",
    "    print(\"\\nCorrected text\")\n",
    "    print(\"==============\")\n",
    "    print(std_op.strip())\n",
    "    print(\"\\n\")\n",
    "except Exception as e:\n",
    "    print(str(e))"
   ]
  },
  {
   "cell_type": "markdown",
   "id": "497cb636-9ea2-4f3f-aa6e-a856574a2a17",
   "metadata": {},
   "source": [
    "## Cleanup\n",
    "---\n",
    "Let's delete the pdf file we uploaded earlier."
   ]
  },
  {
   "cell_type": "code",
   "execution_count": 51,
   "id": "5bc2d322-c0b9-4eec-b544-edf6d761b15b",
   "metadata": {
    "tags": []
   },
   "outputs": [
    {
     "name": "stdout",
     "output_type": "stream",
     "text": [
      "huggingface/tokenizers: The current process just got forked, after parallelism has already been used. Disabling parallelism to avoid deadlocks...\n",
      "To disable this warning, you can either:\n",
      "\t- Avoid using `tokenizers` before the fork if possible\n",
      "\t- Explicitly set the environment variable TOKENIZERS_PARALLELISM=(true | false)\n"
     ]
    }
   ],
   "source": [
    "!aws s3api delete-object --bucket {data_bucket} --key bedrock-sample/health_plan.pdf"
   ]
  },
  {
   "cell_type": "code",
   "execution_count": null,
   "id": "969fbd21-e126-4bde-9907-29d30ec0c9bb",
   "metadata": {},
   "outputs": [],
   "source": []
  }
 ],
 "metadata": {
  "availableInstances": [
   {
    "_defaultOrder": 0,
    "_isFastLaunch": true,
    "category": "General purpose",
    "gpuNum": 0,
    "hideHardwareSpecs": false,
    "memoryGiB": 4,
    "name": "ml.t3.medium",
    "vcpuNum": 2
   },
   {
    "_defaultOrder": 1,
    "_isFastLaunch": false,
    "category": "General purpose",
    "gpuNum": 0,
    "hideHardwareSpecs": false,
    "memoryGiB": 8,
    "name": "ml.t3.large",
    "vcpuNum": 2
   },
   {
    "_defaultOrder": 2,
    "_isFastLaunch": false,
    "category": "General purpose",
    "gpuNum": 0,
    "hideHardwareSpecs": false,
    "memoryGiB": 16,
    "name": "ml.t3.xlarge",
    "vcpuNum": 4
   },
   {
    "_defaultOrder": 3,
    "_isFastLaunch": false,
    "category": "General purpose",
    "gpuNum": 0,
    "hideHardwareSpecs": false,
    "memoryGiB": 32,
    "name": "ml.t3.2xlarge",
    "vcpuNum": 8
   },
   {
    "_defaultOrder": 4,
    "_isFastLaunch": true,
    "category": "General purpose",
    "gpuNum": 0,
    "hideHardwareSpecs": false,
    "memoryGiB": 8,
    "name": "ml.m5.large",
    "vcpuNum": 2
   },
   {
    "_defaultOrder": 5,
    "_isFastLaunch": false,
    "category": "General purpose",
    "gpuNum": 0,
    "hideHardwareSpecs": false,
    "memoryGiB": 16,
    "name": "ml.m5.xlarge",
    "vcpuNum": 4
   },
   {
    "_defaultOrder": 6,
    "_isFastLaunch": false,
    "category": "General purpose",
    "gpuNum": 0,
    "hideHardwareSpecs": false,
    "memoryGiB": 32,
    "name": "ml.m5.2xlarge",
    "vcpuNum": 8
   },
   {
    "_defaultOrder": 7,
    "_isFastLaunch": false,
    "category": "General purpose",
    "gpuNum": 0,
    "hideHardwareSpecs": false,
    "memoryGiB": 64,
    "name": "ml.m5.4xlarge",
    "vcpuNum": 16
   },
   {
    "_defaultOrder": 8,
    "_isFastLaunch": false,
    "category": "General purpose",
    "gpuNum": 0,
    "hideHardwareSpecs": false,
    "memoryGiB": 128,
    "name": "ml.m5.8xlarge",
    "vcpuNum": 32
   },
   {
    "_defaultOrder": 9,
    "_isFastLaunch": false,
    "category": "General purpose",
    "gpuNum": 0,
    "hideHardwareSpecs": false,
    "memoryGiB": 192,
    "name": "ml.m5.12xlarge",
    "vcpuNum": 48
   },
   {
    "_defaultOrder": 10,
    "_isFastLaunch": false,
    "category": "General purpose",
    "gpuNum": 0,
    "hideHardwareSpecs": false,
    "memoryGiB": 256,
    "name": "ml.m5.16xlarge",
    "vcpuNum": 64
   },
   {
    "_defaultOrder": 11,
    "_isFastLaunch": false,
    "category": "General purpose",
    "gpuNum": 0,
    "hideHardwareSpecs": false,
    "memoryGiB": 384,
    "name": "ml.m5.24xlarge",
    "vcpuNum": 96
   },
   {
    "_defaultOrder": 12,
    "_isFastLaunch": false,
    "category": "General purpose",
    "gpuNum": 0,
    "hideHardwareSpecs": false,
    "memoryGiB": 8,
    "name": "ml.m5d.large",
    "vcpuNum": 2
   },
   {
    "_defaultOrder": 13,
    "_isFastLaunch": false,
    "category": "General purpose",
    "gpuNum": 0,
    "hideHardwareSpecs": false,
    "memoryGiB": 16,
    "name": "ml.m5d.xlarge",
    "vcpuNum": 4
   },
   {
    "_defaultOrder": 14,
    "_isFastLaunch": false,
    "category": "General purpose",
    "gpuNum": 0,
    "hideHardwareSpecs": false,
    "memoryGiB": 32,
    "name": "ml.m5d.2xlarge",
    "vcpuNum": 8
   },
   {
    "_defaultOrder": 15,
    "_isFastLaunch": false,
    "category": "General purpose",
    "gpuNum": 0,
    "hideHardwareSpecs": false,
    "memoryGiB": 64,
    "name": "ml.m5d.4xlarge",
    "vcpuNum": 16
   },
   {
    "_defaultOrder": 16,
    "_isFastLaunch": false,
    "category": "General purpose",
    "gpuNum": 0,
    "hideHardwareSpecs": false,
    "memoryGiB": 128,
    "name": "ml.m5d.8xlarge",
    "vcpuNum": 32
   },
   {
    "_defaultOrder": 17,
    "_isFastLaunch": false,
    "category": "General purpose",
    "gpuNum": 0,
    "hideHardwareSpecs": false,
    "memoryGiB": 192,
    "name": "ml.m5d.12xlarge",
    "vcpuNum": 48
   },
   {
    "_defaultOrder": 18,
    "_isFastLaunch": false,
    "category": "General purpose",
    "gpuNum": 0,
    "hideHardwareSpecs": false,
    "memoryGiB": 256,
    "name": "ml.m5d.16xlarge",
    "vcpuNum": 64
   },
   {
    "_defaultOrder": 19,
    "_isFastLaunch": false,
    "category": "General purpose",
    "gpuNum": 0,
    "hideHardwareSpecs": false,
    "memoryGiB": 384,
    "name": "ml.m5d.24xlarge",
    "vcpuNum": 96
   },
   {
    "_defaultOrder": 20,
    "_isFastLaunch": false,
    "category": "General purpose",
    "gpuNum": 0,
    "hideHardwareSpecs": true,
    "memoryGiB": 0,
    "name": "ml.geospatial.interactive",
    "supportedImageNames": [
     "sagemaker-geospatial-v1-0"
    ],
    "vcpuNum": 0
   },
   {
    "_defaultOrder": 21,
    "_isFastLaunch": true,
    "category": "Compute optimized",
    "gpuNum": 0,
    "hideHardwareSpecs": false,
    "memoryGiB": 4,
    "name": "ml.c5.large",
    "vcpuNum": 2
   },
   {
    "_defaultOrder": 22,
    "_isFastLaunch": false,
    "category": "Compute optimized",
    "gpuNum": 0,
    "hideHardwareSpecs": false,
    "memoryGiB": 8,
    "name": "ml.c5.xlarge",
    "vcpuNum": 4
   },
   {
    "_defaultOrder": 23,
    "_isFastLaunch": false,
    "category": "Compute optimized",
    "gpuNum": 0,
    "hideHardwareSpecs": false,
    "memoryGiB": 16,
    "name": "ml.c5.2xlarge",
    "vcpuNum": 8
   },
   {
    "_defaultOrder": 24,
    "_isFastLaunch": false,
    "category": "Compute optimized",
    "gpuNum": 0,
    "hideHardwareSpecs": false,
    "memoryGiB": 32,
    "name": "ml.c5.4xlarge",
    "vcpuNum": 16
   },
   {
    "_defaultOrder": 25,
    "_isFastLaunch": false,
    "category": "Compute optimized",
    "gpuNum": 0,
    "hideHardwareSpecs": false,
    "memoryGiB": 72,
    "name": "ml.c5.9xlarge",
    "vcpuNum": 36
   },
   {
    "_defaultOrder": 26,
    "_isFastLaunch": false,
    "category": "Compute optimized",
    "gpuNum": 0,
    "hideHardwareSpecs": false,
    "memoryGiB": 96,
    "name": "ml.c5.12xlarge",
    "vcpuNum": 48
   },
   {
    "_defaultOrder": 27,
    "_isFastLaunch": false,
    "category": "Compute optimized",
    "gpuNum": 0,
    "hideHardwareSpecs": false,
    "memoryGiB": 144,
    "name": "ml.c5.18xlarge",
    "vcpuNum": 72
   },
   {
    "_defaultOrder": 28,
    "_isFastLaunch": false,
    "category": "Compute optimized",
    "gpuNum": 0,
    "hideHardwareSpecs": false,
    "memoryGiB": 192,
    "name": "ml.c5.24xlarge",
    "vcpuNum": 96
   },
   {
    "_defaultOrder": 29,
    "_isFastLaunch": true,
    "category": "Accelerated computing",
    "gpuNum": 1,
    "hideHardwareSpecs": false,
    "memoryGiB": 16,
    "name": "ml.g4dn.xlarge",
    "vcpuNum": 4
   },
   {
    "_defaultOrder": 30,
    "_isFastLaunch": false,
    "category": "Accelerated computing",
    "gpuNum": 1,
    "hideHardwareSpecs": false,
    "memoryGiB": 32,
    "name": "ml.g4dn.2xlarge",
    "vcpuNum": 8
   },
   {
    "_defaultOrder": 31,
    "_isFastLaunch": false,
    "category": "Accelerated computing",
    "gpuNum": 1,
    "hideHardwareSpecs": false,
    "memoryGiB": 64,
    "name": "ml.g4dn.4xlarge",
    "vcpuNum": 16
   },
   {
    "_defaultOrder": 32,
    "_isFastLaunch": false,
    "category": "Accelerated computing",
    "gpuNum": 1,
    "hideHardwareSpecs": false,
    "memoryGiB": 128,
    "name": "ml.g4dn.8xlarge",
    "vcpuNum": 32
   },
   {
    "_defaultOrder": 33,
    "_isFastLaunch": false,
    "category": "Accelerated computing",
    "gpuNum": 4,
    "hideHardwareSpecs": false,
    "memoryGiB": 192,
    "name": "ml.g4dn.12xlarge",
    "vcpuNum": 48
   },
   {
    "_defaultOrder": 34,
    "_isFastLaunch": false,
    "category": "Accelerated computing",
    "gpuNum": 1,
    "hideHardwareSpecs": false,
    "memoryGiB": 256,
    "name": "ml.g4dn.16xlarge",
    "vcpuNum": 64
   },
   {
    "_defaultOrder": 35,
    "_isFastLaunch": false,
    "category": "Accelerated computing",
    "gpuNum": 1,
    "hideHardwareSpecs": false,
    "memoryGiB": 61,
    "name": "ml.p3.2xlarge",
    "vcpuNum": 8
   },
   {
    "_defaultOrder": 36,
    "_isFastLaunch": false,
    "category": "Accelerated computing",
    "gpuNum": 4,
    "hideHardwareSpecs": false,
    "memoryGiB": 244,
    "name": "ml.p3.8xlarge",
    "vcpuNum": 32
   },
   {
    "_defaultOrder": 37,
    "_isFastLaunch": false,
    "category": "Accelerated computing",
    "gpuNum": 8,
    "hideHardwareSpecs": false,
    "memoryGiB": 488,
    "name": "ml.p3.16xlarge",
    "vcpuNum": 64
   },
   {
    "_defaultOrder": 38,
    "_isFastLaunch": false,
    "category": "Accelerated computing",
    "gpuNum": 8,
    "hideHardwareSpecs": false,
    "memoryGiB": 768,
    "name": "ml.p3dn.24xlarge",
    "vcpuNum": 96
   },
   {
    "_defaultOrder": 39,
    "_isFastLaunch": false,
    "category": "Memory Optimized",
    "gpuNum": 0,
    "hideHardwareSpecs": false,
    "memoryGiB": 16,
    "name": "ml.r5.large",
    "vcpuNum": 2
   },
   {
    "_defaultOrder": 40,
    "_isFastLaunch": false,
    "category": "Memory Optimized",
    "gpuNum": 0,
    "hideHardwareSpecs": false,
    "memoryGiB": 32,
    "name": "ml.r5.xlarge",
    "vcpuNum": 4
   },
   {
    "_defaultOrder": 41,
    "_isFastLaunch": false,
    "category": "Memory Optimized",
    "gpuNum": 0,
    "hideHardwareSpecs": false,
    "memoryGiB": 64,
    "name": "ml.r5.2xlarge",
    "vcpuNum": 8
   },
   {
    "_defaultOrder": 42,
    "_isFastLaunch": false,
    "category": "Memory Optimized",
    "gpuNum": 0,
    "hideHardwareSpecs": false,
    "memoryGiB": 128,
    "name": "ml.r5.4xlarge",
    "vcpuNum": 16
   },
   {
    "_defaultOrder": 43,
    "_isFastLaunch": false,
    "category": "Memory Optimized",
    "gpuNum": 0,
    "hideHardwareSpecs": false,
    "memoryGiB": 256,
    "name": "ml.r5.8xlarge",
    "vcpuNum": 32
   },
   {
    "_defaultOrder": 44,
    "_isFastLaunch": false,
    "category": "Memory Optimized",
    "gpuNum": 0,
    "hideHardwareSpecs": false,
    "memoryGiB": 384,
    "name": "ml.r5.12xlarge",
    "vcpuNum": 48
   },
   {
    "_defaultOrder": 45,
    "_isFastLaunch": false,
    "category": "Memory Optimized",
    "gpuNum": 0,
    "hideHardwareSpecs": false,
    "memoryGiB": 512,
    "name": "ml.r5.16xlarge",
    "vcpuNum": 64
   },
   {
    "_defaultOrder": 46,
    "_isFastLaunch": false,
    "category": "Memory Optimized",
    "gpuNum": 0,
    "hideHardwareSpecs": false,
    "memoryGiB": 768,
    "name": "ml.r5.24xlarge",
    "vcpuNum": 96
   },
   {
    "_defaultOrder": 47,
    "_isFastLaunch": false,
    "category": "Accelerated computing",
    "gpuNum": 1,
    "hideHardwareSpecs": false,
    "memoryGiB": 16,
    "name": "ml.g5.xlarge",
    "vcpuNum": 4
   },
   {
    "_defaultOrder": 48,
    "_isFastLaunch": false,
    "category": "Accelerated computing",
    "gpuNum": 1,
    "hideHardwareSpecs": false,
    "memoryGiB": 32,
    "name": "ml.g5.2xlarge",
    "vcpuNum": 8
   },
   {
    "_defaultOrder": 49,
    "_isFastLaunch": false,
    "category": "Accelerated computing",
    "gpuNum": 1,
    "hideHardwareSpecs": false,
    "memoryGiB": 64,
    "name": "ml.g5.4xlarge",
    "vcpuNum": 16
   },
   {
    "_defaultOrder": 50,
    "_isFastLaunch": false,
    "category": "Accelerated computing",
    "gpuNum": 1,
    "hideHardwareSpecs": false,
    "memoryGiB": 128,
    "name": "ml.g5.8xlarge",
    "vcpuNum": 32
   },
   {
    "_defaultOrder": 51,
    "_isFastLaunch": false,
    "category": "Accelerated computing",
    "gpuNum": 1,
    "hideHardwareSpecs": false,
    "memoryGiB": 256,
    "name": "ml.g5.16xlarge",
    "vcpuNum": 64
   },
   {
    "_defaultOrder": 52,
    "_isFastLaunch": false,
    "category": "Accelerated computing",
    "gpuNum": 4,
    "hideHardwareSpecs": false,
    "memoryGiB": 192,
    "name": "ml.g5.12xlarge",
    "vcpuNum": 48
   },
   {
    "_defaultOrder": 53,
    "_isFastLaunch": false,
    "category": "Accelerated computing",
    "gpuNum": 4,
    "hideHardwareSpecs": false,
    "memoryGiB": 384,
    "name": "ml.g5.24xlarge",
    "vcpuNum": 96
   },
   {
    "_defaultOrder": 54,
    "_isFastLaunch": false,
    "category": "Accelerated computing",
    "gpuNum": 8,
    "hideHardwareSpecs": false,
    "memoryGiB": 768,
    "name": "ml.g5.48xlarge",
    "vcpuNum": 192
   },
   {
    "_defaultOrder": 55,
    "_isFastLaunch": false,
    "category": "Accelerated computing",
    "gpuNum": 8,
    "hideHardwareSpecs": false,
    "memoryGiB": 1152,
    "name": "ml.p4d.24xlarge",
    "vcpuNum": 96
   },
   {
    "_defaultOrder": 56,
    "_isFastLaunch": false,
    "category": "Accelerated computing",
    "gpuNum": 8,
    "hideHardwareSpecs": false,
    "memoryGiB": 1152,
    "name": "ml.p4de.24xlarge",
    "vcpuNum": 96
   }
  ],
  "instance_type": "ml.t3.medium",
  "kernelspec": {
   "display_name": "Python 3 (Data Science 3.0)",
   "language": "python",
   "name": "python3__SAGEMAKER_INTERNAL__arn:aws:sagemaker:us-east-1:081325390199:image/sagemaker-data-science-310-v1"
  },
  "language_info": {
   "codemirror_mode": {
    "name": "ipython",
    "version": 3
   },
   "file_extension": ".py",
   "mimetype": "text/x-python",
   "name": "python",
   "nbconvert_exporter": "python",
   "pygments_lexer": "ipython3",
   "version": "3.10.6"
  }
 },
 "nbformat": 4,
 "nbformat_minor": 5
}
